{
  "nbformat": 4,
  "nbformat_minor": 0,
  "metadata": {
    "colab": {
      "name": "dcgans-documented-using-mnist.ipynb",
      "provenance": [],
      "collapsed_sections": []
    },
    "kernelspec": {
      "name": "python3",
      "display_name": "Python 3"
    },
    "language_info": {
      "name": "python"
    },
    "accelerator": "GPU"
  },
  "cells": [
    {
      "cell_type": "markdown",
      "metadata": {
        "id": "xnaWTc1VW_b-"
      },
      "source": [
        "## DGANs using mnist dataset\n",
        "> - A documented Implementation for the DCGAN paper: [`Unsupervised Representation Learning with Deep Convolutional Generative Adversarial Networks`](https://arxiv.org/abs/1511.06434)\n",
        "> - For model training run the [train.py](./train.py)  file.\n",
        "\n",
        "### Roadmap\n",
        "1. [x] build the generator \n",
        "1. [x] build the dicreminator\n",
        "1. [x] build the combined model\n",
        "1. [x] build a visualization strategy for visualizing the output"
      ]
    },
    {
      "cell_type": "markdown",
      "metadata": {
        "id": "OJ5w0sIyX-nn"
      },
      "source": [
        "## 1. Loading the data and preprocessing it"
      ]
    },
    {
      "cell_type": "markdown",
      "metadata": {
        "id": "xRSZGFmvJUsa"
      },
      "source": [
        "### 1.1 Loading the dataset"
      ]
    },
    {
      "cell_type": "code",
      "metadata": {
        "id": "-cZm6i_oW32T"
      },
      "source": [
        "from tensorflow import keras"
      ],
      "execution_count": 1,
      "outputs": []
    },
    {
      "cell_type": "code",
      "metadata": {
        "id": "FprDP5-rYLhk"
      },
      "source": [
        "from keras.datasets import mnist\n",
        "from keras.layers import Input, Dense, Reshape, Flatten, Dropout, Conv2D, UpSampling2D\n",
        "from keras.layers import BatchNormalization, Activation, ZeroPadding2D\n",
        "from keras.layers.advanced_activations import LeakyReLU\n",
        "from keras.models import Sequential, Model\n",
        "from keras.optimizers import adam_v2\n",
        "\n",
        "import numpy as np\n",
        "import matplotlib.pyplot as plt"
      ],
      "execution_count": 2,
      "outputs": []
    },
    {
      "cell_type": "code",
      "metadata": {
        "id": "SLcNoJhDYpLM",
        "colab": {
          "base_uri": "https://localhost:8080/"
        },
        "outputId": "1a55aa82-04e1-416d-accc-1d1ebc98a0ef"
      },
      "source": [
        "# getting only the training dataset as that the only data we care about\n",
        "(training_data, _), (_, _) = mnist.load_data()"
      ],
      "execution_count": 4,
      "outputs": [
        {
          "output_type": "stream",
          "name": "stdout",
          "text": [
            "Downloading data from https://storage.googleapis.com/tensorflow/tf-keras-datasets/mnist.npz\n",
            "11493376/11490434 [==============================] - 0s 0us/step\n",
            "11501568/11490434 [==============================] - 0s 0us/step\n"
          ]
        }
      ]
    },
    {
      "cell_type": "code",
      "metadata": {
        "colab": {
          "base_uri": "https://localhost:8080/"
        },
        "id": "rGZz8cNZub2j",
        "outputId": "dc9cfcc7-8920-4234-8f74-6247fbbd1cb8"
      },
      "source": [
        "training_data.shape"
      ],
      "execution_count": 5,
      "outputs": [
        {
          "output_type": "execute_result",
          "data": {
            "text/plain": [
              "(60000, 28, 28)"
            ]
          },
          "metadata": {},
          "execution_count": 5
        }
      ]
    },
    {
      "cell_type": "markdown",
      "metadata": {
        "id": "cSPnSRIOtEvO"
      },
      "source": [
        "### 1.2. __Visualizing some samples__             \n",
        "__1.2.1. Annotating an Image with it's pixel values__"
      ]
    },
    {
      "cell_type": "code",
      "metadata": {
        "colab": {
          "base_uri": "https://localhost:8080/",
          "height": 513
        },
        "id": "v5xqS-vHtEMl",
        "outputId": "a9e66d37-4383-4d2a-93e1-13f436d83a82"
      },
      "source": [
        "def visualize_input(img, ax):\n",
        "  ax.imshow(img, cmap='gray')\n",
        "  width, height = img.shape\n",
        "  thresh = img.max() / 8\n",
        "\n",
        "  #looping over every pixel annotate it with its value\n",
        "  for x in range(width):\n",
        "    for y in range(height):\n",
        "      ax.set_axis_off()\n",
        "      ax.annotate(str(round(img[x][y])), xy=(y, x),\n",
        "                  horizontalalignment='center',\n",
        "                  verticalalignment='center',\n",
        "                  color='white' if img[x][y] < thresh else 'black')\n",
        "\n",
        "fig, (ax0, ax1) = plt.subplots(1, 2, figsize = (19, 10)) #you can assign any arguments for the figure from here\n",
        "\n",
        "visualize_input(training_data[0], ax0)\n",
        "\n",
        "ax1.set_axis_off()\n",
        "ax1.imshow(training_data[0], cmap='gray')\n",
        "\n",
        "fig.savefig('/content/image_annotated_with_pixel_values.png')\n",
        "plt.show()"
      ],
      "execution_count": 6,
      "outputs": [
        {
          "output_type": "display_data",
          "data": {
            "image/png": "[encoded data removed]",
            "text/plain": [
              "<Figure size 1368x720 with 2 Axes>"
            ]
          },
          "metadata": {
            "needs_background": "light"
          }
        }
      ]
    },
    {
      "cell_type": "markdown",
      "metadata": {
        "id": "b_AnzJtgIxx6"
      },
      "source": [
        "__1.2.2. Displaying a random picked set of images from the dataset__"
      ]
    },
    {
      "cell_type": "code",
      "metadata": {
        "colab": {
          "base_uri": "https://localhost:8080/",
          "height": 575
        },
        "id": "y9zAhBoztSun",
        "outputId": "757f68ef-39ec-489f-93b1-10a56b995c05"
      },
      "source": [
        "fig, axes = plt.subplots(nrows=3, ncols=5, figsize = (19, 10))\n",
        "\n",
        "for row in range(3):\n",
        "  for col in range(5):\n",
        "  # picking an int between 0, number of examples in the training data\n",
        "    img_idx = np.random.randint(1, 60000)\n",
        "\n",
        "    # plt.axis('off')\n",
        "    axes[row][col].set_axis_off()\n",
        "    axes[row][col].imshow(training_data[img_idx], cmap='gray')\n",
        "    \n",
        "fig.savefig('/content/fashion_mnist_figure.png')\n",
        "plt.show()"
      ],
      "execution_count": 7,
      "outputs": [
        {
          "output_type": "display_data",
          "data": {
            "image/png": "[encoded data removed]",
            "text/plain": [
              "<Figure size 1368x720 with 15 Axes>"
            ]
          },
          "metadata": {
            "needs_background": "light"
          }
        }
      ]
    },
    {
      "cell_type": "markdown",
      "metadata": {
        "id": "rA6lDYfwbSbr"
      },
      "source": [
        "### Edit this please 1.3 __Standarizing the dataset with a mean of zero and std of one__"
      ]
    },
    {
      "cell_type": "code",
      "metadata": {
        "id": "JsV_1x4tZOCJ"
      },
      "source": [
        "training_data = training_data / 127.5 - 1.\n",
        "training_data = np.expand_dims(training_data, 3)\n"
      ],
      "execution_count": 8,
      "outputs": []
    },
    {
      "cell_type": "markdown",
      "metadata": {
        "id": "PbRozVHEbr9W"
      },
      "source": [
        "__Now the values have a _`mean = 0`_ and _`std = 1`___"
      ]
    },
    {
      "cell_type": "markdown",
      "metadata": {
        "id": "SmPxRnHVJoNk"
      },
      "source": [
        "## 2. Building DCGAN"
      ]
    },
    {
      "cell_type": "markdown",
      "metadata": {
        "id": "rdGw9pKDJtlR"
      },
      "source": [
        "### 2.1 Creating the generator\n",
        " __input__(random noise as a vector `z`) -> reshape -> upsample -> getting an image"
      ]
    },
    {
      "cell_type": "code",
      "metadata": {
        "id": "lBvg_vcdJn7y"
      },
      "source": [
        "def build_generator():\n",
        "  generator = Sequential()\n",
        "\n",
        "  # the first dense layer\n",
        "  generator.add(Dense(128 * 7 * 7, activation='relu', input_dim=100))\n",
        "\n",
        "  #reshaping the first dense layer to feed it into convnet\n",
        "  generator.add(Reshape((7, 7, 128)))\n",
        "\n",
        "  # upsampling layer that will makes the dims to 14*14*128\n",
        "  generator.add(UpSampling2D()) # defaults to 2*2 wich double the shape\n",
        "\n",
        "  # conv(128) -> BN -> upsampling\n",
        "  generator.add(Conv2D(128, kernel_size=3, padding='same', activation='relu'))\n",
        "  generator.add(BatchNormalization(momentum=0.8))\n",
        "  \n",
        "  # conv(128) -> BN -> upsampling\n",
        "  generator.add(Conv2D(128, kernel_size=3, padding='same', activation='relu'))\n",
        "  generator.add(BatchNormalization(momentum=0.8))\n",
        "\n",
        "  generator.add(UpSampling2D()) # getting the actual dim of the image 28*28\n",
        "\n",
        "  # conv(64) -> BN\n",
        "  generator.add(Conv2D(64, kernel_size=3, padding='same', activation='relu'))\n",
        "  generator.add(BatchNormalization(momentum=0.8))\n",
        "\n",
        "  # conv(32) -> BN\n",
        "  generator.add(Conv2D(32, kernel_size=3, padding='same', activation='relu'))\n",
        "  generator.add(BatchNormalization(momentum=0.8))\n",
        "\n",
        "  # Resetting the depth of the Image to 1 by adding a conv layer by 1\n",
        "  generator.add(Conv2D(1, kernel_size=3, padding='same', activation='tanh'))\n",
        "\n",
        "  generator.summary()\n",
        "\n",
        "  noise = Input(shape=(100, ))\n",
        "  fake_img = generator(noise)\n",
        "\n",
        "  ## returns a model with input as a vector of shape 100\n",
        "  ## Returns a model with outputs as an image of (28 * 28 *1)\n",
        "  return Model(inputs = noise, outputs = fake_img)"
      ],
      "execution_count": 9,
      "outputs": []
    },
    {
      "cell_type": "markdown",
      "metadata": {
        "id": "V9u8py6UNnoi"
      },
      "source": [
        "### 2.2 Creating the  discriminator\n",
        "__The dicriminator is a just a regular CNN takes an image binary out a real or fake__"
      ]
    },
    {
      "cell_type": "code",
      "metadata": {
        "id": "F14r7D41leIP"
      },
      "source": [
        "def build_discriminator():\n",
        "  discriminator = Sequential()\n",
        "\n",
        "  # ---- BLOCK-1 ---- # # Conv(32) -> leaky_relu -> dropout  \n",
        "  discriminator.add(Conv2D(32, kernel_size=3, strides=2, \n",
        "                           padding='same', input_shape=(28, 28, 1))) # outputs 14*14*32  \n",
        "  discriminator.add(LeakyReLU(alpha=0.2))\n",
        "  discriminator.add(Dropout(rate=0.25)) \n",
        "\n",
        "\n",
        "  # ---- BLOCK-2 ---- #   # Conv(64) -> zeropadding -> BN -> leaky_relu -> dropout\n",
        "  discriminator.add(Conv2D(64, kernel_size=3, strides=2, padding='same'))\n",
        "  # outputs 7*7*64 \n",
        "  #We should add zero padding to make it 8*8*64 to be able to apply down downsampling in the next layers\n",
        "  discriminator.add(ZeroPadding2D(padding=((0, 1), (0, 1))))\n",
        "  discriminator.add(BatchNormalization(momentum=0.8))\n",
        "  discriminator.add(LeakyReLU(alpha=0.2))\n",
        "  discriminator.add(Dropout(rate=0.5))\n",
        "\n",
        "\n",
        "  # ---- BLOCK-3 ---- # #Conv(128) -> BN -> Leaky_relu -> dropout  \n",
        "  discriminator.add(Conv2D(128, kernel_size=3, strides=2, padding='same')) # outputs 4*4*128 \n",
        "  discriminator.add(BatchNormalization(momentum=0.8))\n",
        "  discriminator.add(LeakyReLU(alpha=0.2))\n",
        "  discriminator.add(Dropout(rate=0.5))\n",
        "\n",
        "\n",
        "  # ---- BLOCK-4 ---- # #Conv(256) -> BN -> Leaky_relu -> dropout  \n",
        "  # discriminator.add(Conv2D(256, kernel_size=3, strides=1, padding='same')) # outputs 4*4*256\n",
        "  # discriminator.add(BatchNormalization(momentum=0.8))\n",
        "  # discriminator.add(LeakyReLU(alpha=0.2))\n",
        "  # discriminator.add(Dropout(rate=0.5))\n",
        "\n",
        "  ## -_-_-_-_-_-_  Classifier -_-_-_-_-_-_ ##\n",
        "  discriminator.add(Flatten())\n",
        "  discriminator.add(Dense(1, activation='sigmoid'))\n",
        "\n",
        "  discriminator.summary()\n",
        "  \n",
        "  img = Input(shape=(28, 28, 1))\n",
        "  probability = discriminator(img)\n",
        "\n",
        "  return Model(inputs=img, outputs=probability)"
      ],
      "execution_count": 10,
      "outputs": []
    },
    {
      "cell_type": "markdown",
      "metadata": {
        "id": "7-Fk3bx_0Ozv"
      },
      "source": [
        "### 2.3 Building the combined model\n",
        "__We can't train the generator by itself, we need a dicriminator with it to evaluate it.__\n",
        "\n",
        "__So we build a combined model simply__ \n",
        "- __`input(noise) -> [Generator] -> Img -> [Discriminator] -> Fake|Real`__\n",
        "- __`Input(noise) -> Combined_model -> Fake|Real`__\n",
        "- __NOTE THAT, We also disabling the discriminator training in the combined model__"
      ]
    },
    {
      "cell_type": "markdown",
      "metadata": {
        "id": "S9fFXctxEVEL"
      },
      "source": [
        "#### __2.3.1 Build and compile the discriminator__"
      ]
    },
    {
      "cell_type": "code",
      "metadata": {
        "colab": {
          "base_uri": "https://localhost:8080/"
        },
        "id": "Y2cx2ZF6z8Cd",
        "outputId": "7c44ce45-c021-4bd4-a288-317e974c9b25"
      },
      "source": [
        "adam = adam_v2.Adam(learning_rate=0.0001, beta_1=0.5)\n",
        "\n",
        "discriminator = build_discriminator()\n",
        "\n",
        "#compile it\n",
        "discriminator.compile(loss='binary_crossentropy', optimizer=adam)"
      ],
      "execution_count": 11,
      "outputs": [
        {
          "output_type": "stream",
          "name": "stdout",
          "text": [
            "Model: \"sequential\"\n",
            "_________________________________________________________________\n",
            "Layer (type)                 Output Shape              Param #   \n",
            "=================================================================\n",
            "conv2d (Conv2D)              (None, 14, 14, 32)        320       \n",
            "_________________________________________________________________\n",
            "leaky_re_lu (LeakyReLU)      (None, 14, 14, 32)        0         \n",
            "_________________________________________________________________\n",
            "dropout (Dropout)            (None, 14, 14, 32)        0         \n",
            "_________________________________________________________________\n",
            "conv2d_1 (Conv2D)            (None, 7, 7, 64)          18496     \n",
            "_________________________________________________________________\n",
            "zero_padding2d (ZeroPadding2 (None, 8, 8, 64)          0         \n",
            "_________________________________________________________________\n",
            "batch_normalization (BatchNo (None, 8, 8, 64)          256       \n",
            "_________________________________________________________________\n",
            "leaky_re_lu_1 (LeakyReLU)    (None, 8, 8, 64)          0         \n",
            "_________________________________________________________________\n",
            "dropout_1 (Dropout)          (None, 8, 8, 64)          0         \n",
            "_________________________________________________________________\n",
            "conv2d_2 (Conv2D)            (None, 4, 4, 128)         73856     \n",
            "_________________________________________________________________\n",
            "batch_normalization_1 (Batch (None, 4, 4, 128)         512       \n",
            "_________________________________________________________________\n",
            "leaky_re_lu_2 (LeakyReLU)    (None, 4, 4, 128)         0         \n",
            "_________________________________________________________________\n",
            "dropout_2 (Dropout)          (None, 4, 4, 128)         0         \n",
            "_________________________________________________________________\n",
            "flatten (Flatten)            (None, 2048)              0         \n",
            "_________________________________________________________________\n",
            "dense (Dense)                (None, 1)                 2049      \n",
            "=================================================================\n",
            "Total params: 95,489\n",
            "Trainable params: 95,105\n",
            "Non-trainable params: 384\n",
            "_________________________________________________________________\n"
          ]
        }
      ]
    },
    {
      "cell_type": "markdown",
      "metadata": {
        "id": "Nr9RkaH6E-us"
      },
      "source": [
        "__Freeze the discriminator parameters__"
      ]
    },
    {
      "cell_type": "code",
      "metadata": {
        "id": "nEw7mqbTE9t-"
      },
      "source": [
        "discriminator.trainable = False"
      ],
      "execution_count": 12,
      "outputs": []
    },
    {
      "cell_type": "markdown",
      "metadata": {
        "id": "UA8bnfG_FKXp"
      },
      "source": [
        "#### __2.3.2 Building the combined_model__"
      ]
    },
    {
      "cell_type": "code",
      "metadata": {
        "colab": {
          "base_uri": "https://localhost:8080/"
        },
        "id": "2KY6_cNNFGwh",
        "outputId": "bbc963a5-3e10-42f6-e249-170420daf341"
      },
      "source": [
        "generator = build_generator()\n",
        "\n",
        "z = Input(shape=(100, ))\n",
        "img = generator(z)\n",
        "\n",
        "validity = discriminator(img) #takes a generated image and check it\n",
        "\n",
        "combined_model = Model(inputs=z, outputs=validity)\n",
        "combined_model.compile(loss='binary_crossentropy', optimizer=adam)"
      ],
      "execution_count": 13,
      "outputs": [
        {
          "output_type": "stream",
          "name": "stdout",
          "text": [
            "Model: \"sequential_1\"\n",
            "_________________________________________________________________\n",
            "Layer (type)                 Output Shape              Param #   \n",
            "=================================================================\n",
            "dense_1 (Dense)              (None, 6272)              633472    \n",
            "_________________________________________________________________\n",
            "reshape (Reshape)            (None, 7, 7, 128)         0         \n",
            "_________________________________________________________________\n",
            "up_sampling2d (UpSampling2D) (None, 14, 14, 128)       0         \n",
            "_________________________________________________________________\n",
            "conv2d_3 (Conv2D)            (None, 14, 14, 128)       147584    \n",
            "_________________________________________________________________\n",
            "batch_normalization_2 (Batch (None, 14, 14, 128)       512       \n",
            "_________________________________________________________________\n",
            "conv2d_4 (Conv2D)            (None, 14, 14, 128)       147584    \n",
            "_________________________________________________________________\n",
            "batch_normalization_3 (Batch (None, 14, 14, 128)       512       \n",
            "_________________________________________________________________\n",
            "up_sampling2d_1 (UpSampling2 (None, 28, 28, 128)       0         \n",
            "_________________________________________________________________\n",
            "conv2d_5 (Conv2D)            (None, 28, 28, 64)        73792     \n",
            "_________________________________________________________________\n",
            "batch_normalization_4 (Batch (None, 28, 28, 64)        256       \n",
            "_________________________________________________________________\n",
            "conv2d_6 (Conv2D)            (None, 28, 28, 32)        18464     \n",
            "_________________________________________________________________\n",
            "batch_normalization_5 (Batch (None, 28, 28, 32)        128       \n",
            "_________________________________________________________________\n",
            "conv2d_7 (Conv2D)            (None, 28, 28, 1)         289       \n",
            "=================================================================\n",
            "Total params: 1,022,593\n",
            "Trainable params: 1,021,889\n",
            "Non-trainable params: 704\n",
            "_________________________________________________________________\n"
          ]
        }
      ]
    },
    {
      "cell_type": "code",
      "metadata": {
        "colab": {
          "base_uri": "https://localhost:8080/"
        },
        "id": "gP2NpyfBGK6L",
        "outputId": "40ccd72f-c742-4606-dacc-b8b891a9468f"
      },
      "source": [
        "combined_model.summary()"
      ],
      "execution_count": 14,
      "outputs": [
        {
          "output_type": "stream",
          "name": "stdout",
          "text": [
            "Model: \"model_2\"\n",
            "_________________________________________________________________\n",
            "Layer (type)                 Output Shape              Param #   \n",
            "=================================================================\n",
            "input_3 (InputLayer)         [(None, 100)]             0         \n",
            "_________________________________________________________________\n",
            "model_1 (Functional)         (None, 28, 28, 1)         1022593   \n",
            "_________________________________________________________________\n",
            "model (Functional)           (None, 1)                 95489     \n",
            "=================================================================\n",
            "Total params: 1,118,082\n",
            "Trainable params: 1,021,889\n",
            "Non-trainable params: 96,193\n",
            "_________________________________________________________________\n"
          ]
        }
      ]
    },
    {
      "cell_type": "markdown",
      "metadata": {
        "id": "Sy0YmvkHILDk"
      },
      "source": [
        "## 3. Training the DCGAN\n",
        "__As we already know that we need a custom method to train the DCGAN network as the original .fit method won't be useful here__"
      ]
    },
    {
      "cell_type": "markdown",
      "metadata": {
        "id": "vzFQsOfTItz9"
      },
      "source": [
        "### 3.1 Building the Training function"
      ]
    },
    {
      "cell_type": "code",
      "metadata": {
        "id": "jmHvwELEHL6U"
      },
      "source": [
        "# discriminator.trainable = True\n",
        "def train(epochs, batch_size=128):\n",
        "  # Manaualy creating the labels ones for the real images and zeros for the generated\n",
        "  real_labels = np.ones((batch_size, 1)) #(a list of ones with a shape of (128, 1))\n",
        "  gen_labels = np.zeros((batch_size, 1)) #(a list of zeros with a shape of (128, 1))\n",
        "\n",
        "  for epoch in range(epochs):\n",
        "    \n",
        "    ## ---- Step-1 Train the discriminator model ---- ##\n",
        "    # 1 select a random set of image from the training data\n",
        "    indeces = np.random.randint(0, training_data.shape[0], batch_size) # low, high, shape\n",
        "    real_imgs_batch = training_data[indeces]\n",
        "\n",
        "    # 2 generate a batch of noise to fed it into the dicrimninator model\n",
        "    noise_batch = np.random.normal(0, 1, (batch_size, 100)) # mean, std, shape\n",
        "    gen_img_batch = generator.predict(noise_batch)\n",
        "\n",
        "    # the discriminator params isn't freezed here, it's freezed in the combined model only\n",
        "    \n",
        "    # 1st step is to make the discriminator trainable\n",
        "    discriminator.trainable = True\n",
        "    disc_loss_real = discriminator.train_on_batch(real_imgs_batch, real_labels) \n",
        "    disc_loss_gen = discriminator.train_on_batch(gen_img_batch, gen_labels)\n",
        "    discriminator.trainable = False\n",
        "\n",
        "    ## ---- Training the combined model ---- ##\n",
        "    # Note that the disc doesn't train here it's freezed Itonly makes predictions\n",
        "    gen_loss = combined_model.train_on_batch(noise_batch, real_labels)\n",
        "    # discriminator.summary()\n",
        "\n",
        "    if epoch % 50 == 0:\n",
        "      print(f\"Epoch: {epoch}, Disc_loss_real: {disc_loss_real},\"\n",
        "            f\"Disc_loss_gen: {disc_loss_gen}, Gen_loss: {gen_loss}\")\n",
        "    \n",
        "    #plotting images every period of training\n",
        "    if epoch % 200 == 0:\n",
        "      plot_generated_imgs(epoch, generator)"
      ],
      "execution_count": 15,
      "outputs": []
    },
    {
      "cell_type": "markdown",
      "metadata": {
        "id": "erzLvHWseLT9"
      },
      "source": [
        "__Defining a function for plotting a batch of images__"
      ]
    },
    {
      "cell_type": "code",
      "metadata": {
        "id": "xgeOQ1hbeJHl"
      },
      "source": [
        "## plotting 15 imgs from using the generator\n",
        "def plot_generated_imgs(epoch, generator_model):\n",
        "  #generating 15 imgs\n",
        "  noise_batch = np.random.normal(0, 1, (10, 100))\n",
        "  gen_imgs = generator_model.predict(noise_batch)\n",
        "\n",
        "  # gen_imgs = (gen_imgs * 127.5) + 1\n",
        "  gen_imgs = 0.5 * gen_imgs + 0.5\n",
        "\n",
        "  # creating subplots and figures\n",
        "  fig, axes = plt.subplots(nrows=2, ncols=5, figsize=(18, 10))\n",
        "\n",
        "  img_idx = 0\n",
        "  for row in range(2):\n",
        "    for col in range(5):\n",
        "      axes[row][col].set_axis_off()\n",
        "      axes[row][col].imshow(gen_imgs[img_idx, :,:,0], cmap='gray')\n",
        "      img_idx += 1\n",
        "      \n",
        "  # fig.savefig('/content/fashion_mnist_figure.png')\n",
        "  plt.show()"
      ],
      "execution_count": 16,
      "outputs": []
    },
    {
      "cell_type": "code",
      "metadata": {
        "id": "xb-Qd_ZtiNjK"
      },
      "source": [
        "train(epochs=4000, batch_size=64)"
      ],
      "execution_count": null,
      "outputs": []
    },
    {
      "cell_type": "markdown",
      "metadata": {
        "id": "gnKMF1qzYQ9m"
      },
      "source": [
        "> - __Now I've gone over the implementation details for the paper.__\n",
        "> - __For model training just run the the provided train.py file in the github repo:__\n"
      ]
    }
  ]
}